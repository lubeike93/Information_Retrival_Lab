{
  "nbformat": 4,
  "nbformat_minor": 0,
  "metadata": {
    "colab": {
      "name": "assignment1_irihdd_curr.ipynb",
      "version": "0.3.2",
      "views": {},
      "default_view": {},
      "provenance": [],
      "collapsed_sections": [],
      "toc_visible": true
    },
    "kernelspec": {
      "name": "python3",
      "display_name": "Python 3"
    }
  },
  "cells": [
    {
      "metadata": {
        "id": "ATnrLn8Tft5m",
        "colab_type": "text"
      },
      "cell_type": "markdown",
      "source": [
        "# Assignment 1\n",
        "Group 14 - Felix Buchert, Johann Jahner, Alexander Ladwein, Beike Lu, Alexander Schwer\n"
      ]
    },
    {
      "metadata": {
        "id": "iEtjT-APg0tV",
        "colab_type": "text"
      },
      "cell_type": "markdown",
      "source": [
        "## Task 1\n",
        "### 1.1\n",
        "For dimension $p = 1$, $X$ uniformly distributed in $C_1$, and $d \\geq 1$:\n",
        "\n",
        "\\begin{align}\n",
        "  Pr(X \\in C_d) = q = 1\n",
        "\\end{align}\n",
        "\n",
        "On the other hand, for $d < 1$ it holds:\n",
        "\n",
        "\\begin{align}\n",
        "  Pr(X \\in C_d) = q \\in  [0,1)\n",
        "\\end{align}\n",
        "\n",
        "In general, the probability $q$ can be calculated by integrating the PDF $f_X(x)$ over the interval $[-d/2, d/2]$:\n",
        "\n",
        "\\begin{align}\n",
        "q = \\int\\limits_{-d/2}^{d/2} f(x)\\,dx\n",
        "\\end{align}\n",
        "\n",
        "Since $X$ is uniformly distributed in $C1$ corresponding to an interval length of $1$ (from $-1/2$ to $+1/2$), we obtain\n",
        "\n",
        "\\begin{align}\n",
        "q = \\int\\limits_{-d/2}^{d/2} 1\\,dx = [x]_{-d/2}^{d/2} = d.\n",
        "\\end{align}\n",
        "For $p > 1$ solving the above integral results in $q=d^p$ and finally we obtain d:\n",
        "\n",
        "\\begin{align}\n",
        "  q &= d^p \\\\\n",
        "  ln\\ q &= p\\ \\cdot ln\\ d \\\\\n",
        "  d &= q^{1/p}.\n",
        "\\end{align}\n",
        "\n",
        "###1.2\n",
        "For $p = 1$:\n",
        "\\begin{align}\n",
        "Pr(||X^1||_{infinite} > 2.576) = 1-0.99 = 0.01.\n",
        "\\end{align}\n",
        "\n",
        "For an arbitrary $p$: \n",
        "\\begin{align}\n",
        "Pr(||X^p||_{infinite} > 2.576) = 1-0.99^p\n",
        "\\end{align}\n",
        "\n",
        "Now we can calculate $Pr(||X^p||_{infinite} > 2.576)$ for $p = 2,3,500$:"
      ]
    },
    {
      "metadata": {
        "id": "ymi31j-ifS1A",
        "colab_type": "code",
        "colab": {
          "autoexec": {
            "startup": false,
            "wait_interval": 0
          },
          "base_uri": "https://localhost:8080/",
          "height": 121
        },
        "outputId": "389a0e5a-1d6a-4be1-e0bc-11350aa24b08",
        "executionInfo": {
          "status": "ok",
          "timestamp": 1525349799524,
          "user_tz": -120,
          "elapsed": 3506,
          "user": {
            "displayName": "Jose Itumes",
            "photoUrl": "https://lh3.googleusercontent.com/a/default-user=s128",
            "userId": "108163567326152706417"
          }
        }
      },
      "cell_type": "code",
      "source": [
        "p = [2,3,500]\n",
        "for element in p:\n",
        "  Pr = 1-0.99**element\n",
        "  print('For p = %d the probability is %f\\n' %(element, Pr) )\n",
        "  "
      ],
      "execution_count": 37,
      "outputs": [
        {
          "output_type": "stream",
          "text": [
            "For p = 2 the probability is 0.019900\n",
            "\n",
            "For p = 3 the probability is 0.029701\n",
            "\n",
            "For p = 500 the probability is 0.993430\n",
            "\n"
          ],
          "name": "stdout"
        }
      ]
    },
    {
      "metadata": {
        "id": "zKTpSQkgg_hx",
        "colab_type": "text"
      },
      "cell_type": "markdown",
      "source": [
        "## Task 2\n",
        "(unfinished: analysis of angle matrix, and interpretation missing)\n"
      ]
    },
    {
      "metadata": {
        "id": "rmDlcI17I4aU",
        "colab_type": "text"
      },
      "cell_type": "markdown",
      "source": [
        "### 2.1 \n",
        "$100$ uniformly distributed random vectors from the box $[−1, 1]^d$ for $d = 2$:"
      ]
    },
    {
      "metadata": {
        "id": "rbaAOXKQhD1P",
        "colab_type": "code",
        "colab": {
          "autoexec": {
            "startup": false,
            "wait_interval": 0
          }
        }
      },
      "cell_type": "code",
      "source": [
        "import numpy as np\n",
        "# Get 100 vectors\n",
        "\n",
        "vectors = np.random.uniform(-1,1,(100,2))"
      ],
      "execution_count": 0,
      "outputs": []
    },
    {
      "metadata": {
        "id": "qt22c4SGI4ab",
        "colab_type": "text"
      },
      "cell_type": "markdown",
      "source": [
        "### 2.2\n",
        "Average minimum angle of these 100 vectors:"
      ]
    },
    {
      "metadata": {
        "id": "TMIYqKJChm0n",
        "colab_type": "code",
        "colab": {
          "autoexec": {
            "startup": false,
            "wait_interval": 0
          },
          "base_uri": "https://localhost:8080/",
          "height": 34
        },
        "outputId": "b5db9f3e-597a-4230-f041-d220f1c63a04",
        "executionInfo": {
          "status": "ok",
          "timestamp": 1525355978944,
          "user_tz": -120,
          "elapsed": 513,
          "user": {
            "displayName": "Alexander Ladwein",
            "photoUrl": "https://lh3.googleusercontent.com/a/default-user=s128",
            "userId": "108354576234587090380"
          }
        }
      },
      "cell_type": "code",
      "source": [
        "import math\n",
        "import numpy as np\n",
        "\n",
        "def unit_vector(vector):\n",
        "    # Returns the unit vector of a vector\n",
        "    return vector / np.linalg.norm(vector)\n",
        "\n",
        "def angle_between(v1, v2):\n",
        "    # Returns the angle in radians between to vectors in any dimension\n",
        "    v1_u = unit_vector(v1)\n",
        "    v2_u = unit_vector(v2)\n",
        "    \n",
        "    # clip prevents errors due to numerical inaccuracies\n",
        "    return np.arccos(np.clip(np.dot(v1_u, v2_u), -1.0, 1.0))\n",
        "\n",
        "  \n",
        "def normedDot(v1, v2):\n",
        "    # Returns the normed scalar product between two vectors in any dimension\n",
        "    v1_u = unit_vector(v1)\n",
        "    v2_u = unit_vector(v2)\n",
        "    \n",
        "    return np.dot(v1_u, v2_u)\n",
        "\n",
        "def radToDeg(radAngle):\n",
        "    # Convert a radian angle to a degree angle\n",
        "    return radAngle * 180/math.pi\n",
        "  \n",
        "angle_matrix = np.zeros(shape=(100,100));\n",
        "\n",
        "for i in range(0,100):\n",
        "    for j in range(0,100):\n",
        "        angle_matrix[i,j] = angle_between(vectors[i,:],vectors[j,:]);\n",
        "        if i == j:\n",
        "            angle_matrix[i,j] = math.nan # \"penalty\" value for angles between vector and itself\n",
        "            \n",
        "minAngle = np.nanmin(angle_matrix,0);\n",
        "avgMinAngle = np.mean(minAngle);\n",
        "\n",
        "print(\"The average minimum angle for this sample set is %f rad (%f deg)\" %(avgMinAngle, radToDeg(avgMinAngle)))"
      ],
      "execution_count": 37,
      "outputs": [
        {
          "output_type": "stream",
          "text": [
            "The average minimum angle for this sample set is 0.030076 rad (1.723254 deg)\n"
          ],
          "name": "stdout"
        }
      ]
    },
    {
      "metadata": {
        "id": "p06-P7ToI4as",
        "colab_type": "text"
      },
      "cell_type": "markdown",
      "source": [
        "### 2.3\n",
        "Functions to repeat the above for any dimension"
      ]
    },
    {
      "metadata": {
        "id": "dX0YNSLHk_cj",
        "colab_type": "code",
        "colab": {
          "autoexec": {
            "startup": false,
            "wait_interval": 0
          }
        }
      },
      "cell_type": "code",
      "source": [
        "import math\n",
        "import numpy as np\n",
        "\n",
        "debugFlg = 0\n",
        "\n",
        "def symmetrize(a):\n",
        "    # Get full symmetric matirx from triangular matrix. \n",
        "    # In our case diagonal elements can be ignored, since they are set to inf anyway\n",
        "    return a + a.T\n",
        "\n",
        "def avgMinAngleOfRandomVectors(dim = 2, numSamples = 100): \n",
        "    # INPUT\n",
        "    # dim: dimensionality of vector space\n",
        "    # numSamples: number of vectors to be sampled\n",
        "    # \n",
        "    # OUTPUT\n",
        "    # avgMinAngle: Average of the minimum angle of each vector with every other vector\n",
        "    #\n",
        "    # \n",
        "    \n",
        "    # Get uniformly distributed vectors according to input parameters. \n",
        "    # Every row represents one vector.\n",
        "    vectors = np.random.uniform(-1, 1, (numSamples, dim))\n",
        "    \n",
        "    \n",
        "    # Create matrix to hold the calculated angles between each vector and every other vector:\n",
        "    # angle_matrix[i,j] will contain the angle between vector i and j.\n",
        "    angle_matrix = np.zeros(shape = (numSamples,numSamples))\n",
        "    \n",
        "    # Run through all vectors and compute angles.\n",
        "    for i in range(0,numSamples):\n",
        "        for j in range(0,numSamples):\n",
        "            if j == i:\n",
        "                # \"penalty\" value for angles between vector and itself\n",
        "                angle_matrix[i,j] = math.nan \n",
        "                \n",
        "            elif i < j:\n",
        "                # Matrix will be symmetric, thus compute only upper triangular matrix\n",
        "                angle_matrix[i,j] = angle_between(vectors[i,:],vectors[j,:])\n",
        "            \n",
        "    \n",
        "    angle_matrix = symmetrize(angle_matrix)\n",
        "    \n",
        "    # Get minimum angle in eacht row of the matrix\n",
        "    minAngle = np.nanmin(angle_matrix,0)\n",
        "    \n",
        "    # Calculate the mean of \n",
        "    avgMinAngle = np.mean(minAngle)\n",
        "    \n",
        "    if debugFlg:\n",
        "        print(\"-----------------------Start------------------------\")\n",
        "        print(\"dim = %d; numSamples = %d\\n\" %(dim,numSamples))\n",
        "        print(vectors)\n",
        "        print(\"\")\n",
        "        print(angle_matrix)\n",
        "        print(\"\")\n",
        "        print(minAngle)\n",
        "        print(\"\")\n",
        "        print(avgMinAngle)\n",
        "        print(\"------------------------End-------------------------\\n\")\n",
        "    output = {'avgMinAnlge':avgMinAngle, 'angleMatrix':angle_matrix}\n",
        "    return output\n",
        "    "
      ],
      "execution_count": 0,
      "outputs": []
    },
    {
      "metadata": {
        "id": "M_j_Vm_8I4a2",
        "colab_type": "text"
      },
      "cell_type": "markdown",
      "source": [
        "Compute average min angle for dimensions $d=1,...,1000$ and plot against dimension:"
      ]
    },
    {
      "metadata": {
        "id": "lMgcc_pCI4a3",
        "colab_type": "code",
        "colab": {
          "autoexec": {
            "startup": false,
            "wait_interval": 0
          },
          "base_uri": "https://localhost:8080/",
          "height": 34
        },
        "outputId": "0a9464b8-804e-46fa-cbce-ab33dcdcc696",
        "executionInfo": {
          "status": "ok",
          "timestamp": 1525362083089,
          "user_tz": -120,
          "elapsed": 143142,
          "user": {
            "displayName": "Alexander Ladwein",
            "photoUrl": "https://lh3.googleusercontent.com/a/default-user=s128",
            "userId": "108354576234587090380"
          }
        }
      },
      "cell_type": "code",
      "source": [
        "import matplotlib.pyplot as plt\n",
        "import time\n",
        "\n",
        "t = time.time()\n",
        "\n",
        "\n",
        "dimRange = list(range(1,1001))\n",
        "nDims = len(dimRange)\n",
        "nSamples = 100\n",
        "\n",
        "avgMinAngles = np.ones(shape=(nDims,1))\n",
        "angleMatrices = np.ones(shape=(nDims,1))\n",
        "#output = np.ones(shape=(nDims,1));\n",
        "outputList = list()\n",
        "\n",
        "for i in range(0, nDims):\n",
        "    output = avgMinAngleOfRandomVectors(dimRange[i], nSamples)\n",
        "    outputList.append(output)\n",
        "    #(avgMinAngles[i], angleMatrices[i]) = avgMinAngleOfRandomVectors(dimRange[i], nSamples)\n",
        "    #print('For dim = %d the average minimum angle is %f\\n' %(dim, avgMinAngle) )\n",
        "\n",
        "    \n",
        "\n",
        "elapsed = time.time() - t\n",
        "\n",
        "print(\"Elapsed time is %f seconds\" %elapsed)\n",
        "\n",
        "   "
      ],
      "execution_count": 60,
      "outputs": [
        {
          "output_type": "stream",
          "text": [
            "Elapsed time is 142.434525 seconds\n"
          ],
          "name": "stdout"
        }
      ]
    },
    {
      "metadata": {
        "id": "Ts8hgJDiM6Nq",
        "colab_type": "code",
        "colab": {
          "autoexec": {
            "startup": false,
            "wait_interval": 0
          }
        }
      },
      "cell_type": "code",
      "source": [
        "# Analysis of output\n",
        "\n",
        "radToDeg(outputList[50]['angleMatrix'])\n",
        "\n",
        "minAngles = np.ones(shape=(nDims,nSamples))\n",
        "maxAngles = np.ones(shape=(nDims,nSamples))\n",
        "meanAngles = np.ones(shape=(nDims,nSamples))\n",
        "\n",
        "for iDim in range(0,nDims):\n",
        "  angleMatrix = outputList[iDim]['angleMatrix']\n",
        "  minAngles[iDim,:] = np.nanmin(angleMatrix,0)\n",
        "  maxAngles[iDim,:] = np.nanmax(angleMatrix,0)\n",
        "  meanAngles[iDim,:] = np.nanmean(angleMatrix,0)\n",
        "\n",
        "\n"
      ],
      "execution_count": 0,
      "outputs": []
    },
    {
      "metadata": {
        "id": "xbsDnt6a0Aw8",
        "colab_type": "code",
        "colab": {
          "autoexec": {
            "startup": false,
            "wait_interval": 0
          }
        }
      },
      "cell_type": "code",
      "source": [
        "avgMinAngles = np.ones(shape=(nDims,1))\n",
        "avgMaxAngles = np.ones(shape=(nDims,1))\n",
        "avgMeanAngles = np.ones(shape=(nDims,1))\n",
        "\n",
        "for iDim in range(0,nDims):\n",
        "  avgMinAngles[iDim,0] = np.mean(minAngles[iDim,:])\n",
        "  avgMaxAngles[iDim,0] = np.mean(maxAngles[iDim,:])\n",
        "  avgMeanAngles[iDim,0] = np.mean(meanAngles[iDim,:])"
      ],
      "execution_count": 0,
      "outputs": []
    },
    {
      "metadata": {
        "id": "SJx3A0RwI4a9",
        "colab_type": "code",
        "colab": {
          "autoexec": {
            "startup": false,
            "wait_interval": 0
          },
          "base_uri": "https://localhost:8080/",
          "height": 378
        },
        "outputId": "de795a5e-275f-44fe-f434-4105a100daa8",
        "executionInfo": {
          "status": "ok",
          "timestamp": 1525362779622,
          "user_tz": -120,
          "elapsed": 1267,
          "user": {
            "displayName": "Alexander Ladwein",
            "photoUrl": "https://lh3.googleusercontent.com/a/default-user=s128",
            "userId": "108354576234587090380"
          }
        }
      },
      "cell_type": "code",
      "source": [
        "avgMinAngles_deg = radToDeg(avgMinAngles)\n",
        "\n",
        "from IPython.display import set_matplotlib_formats\n",
        "set_matplotlib_formats('png', 'pdf')\n",
        "\n",
        "LineMin = plt.plot(dimRange, avgMinAngles_deg, label = 'average minimum angle');\n",
        "plt.xlabel('dimension');\n",
        "plt.ylabel('average minimum angle (deg)');\n",
        "\n",
        "avgMaxAngles_deg = radToDeg(avgMaxAngles)\n",
        "\n",
        "LineMax = plt.plot(dimRange, avgMaxAngles_deg, label = 'avergae maximum angle');\n",
        "plt.xlabel('dimension');\n",
        "plt.ylabel('average maximum angle (deg)');\n",
        "\n",
        "avgMeanAngles_deg = radToDeg(avgMeanAngles)\n",
        "\n",
        "LineMean = plt.plot(dimRange, avgMeanAngles_deg, label = 'average mean angle');\n",
        "plt.xlabel('dimension');\n",
        "plt.ylabel('average min/mean/max angle (deg)');\n",
        "\n",
        "plt.legend()\n",
        "\n",
        "#print(np.max(avgMinAngles_deg), min(dimRange), avgMinAngles_deg[0], max(dimRange), avgMinAngles_deg[-1])"
      ],
      "execution_count": 63,
      "outputs": [
        {
          "output_type": "execute_result",
          "data": {
            "text/plain": [
              "<matplotlib.legend.Legend at 0x7fa975bd86d8>"
            ]
          },
          "metadata": {
            "tags": []
          },
          "execution_count": 63
        },
        {
          "output_type": "display_data",
          "data": {
            "image/png": "[encoded data removed]",
            "application/pdf": "[encoded data removed]",
            "text/plain": [
              "<matplotlib.figure.Figure at 0x7fa975bd8a58>"
            ]
          },
          "metadata": {
            "tags": []
          }
        }
      ]
    },
    {
      "metadata": {
        "id": "FqtnfBVYpVBm",
        "colab_type": "code",
        "colab": {
          "autoexec": {
            "startup": false,
            "wait_interval": 0
          }
        }
      },
      "cell_type": "code",
      "source": [
        "outputList400 = outputList\n"
      ],
      "execution_count": 0,
      "outputs": []
    },
    {
      "metadata": {
        "id": "6q7HTqpYI4bB",
        "colab_type": "text"
      },
      "cell_type": "markdown",
      "source": [
        "### 2.4 Interpretation\n",
        "- We think, the above experiment is equivalent to drawing pairs of randomly sampled vectors from d-dimensional spaces\n",
        "- The result suggests, that when repeatedly (a high number of times) looking at the angle between two random vectors in a d-dimensional space, on average the vectors will be orthogonal, independet of the dimension. However, the higher the dimension the smaller the variance in the distribution of the angles will be.\n",
        "- The experiment shows the characteristics of the law of large numbers: \"According to the law, the average of the results obtained from a large number of trials should be close to the expected value, and will tend to become closer as more trials are performed\" (Wikipedia)\n",
        "- Concslusion for 2 vectors: The higher the dimension the more probable it is, that two randomly sampled vectors will be nearly orthogonal (see above)"
      ]
    },
    {
      "metadata": {
        "id": "hSxWNZGMDT-Y",
        "colab_type": "code",
        "colab": {
          "autoexec": {
            "startup": false,
            "wait_interval": 0
          }
        }
      },
      "cell_type": "code",
      "source": [
        "dimRange = list(range(2,1001))\n",
        "nDims = len(dimRange)\n",
        "nVectorPairs = 10000\n",
        "\n",
        "angles = np.zeros((nDims, nVectorPairs))\n",
        "\n",
        "for i in range(0,nDims):\n",
        "  # draw two vectos\n",
        "  for j in range(0,nVectorPairs):\n",
        "    vectorPair = np.random.uniform(-1, 1, (2, dimRange[i]))\n",
        "    angles[i,j] = normedDot(vectorPair[0,:],vectorPair[1,:])\n",
        "  \n",
        "  \n",
        "\n",
        "plt.plot(dimRange,radToDeg(np.mean(angles,1)))\n",
        "  "
      ],
      "execution_count": 0,
      "outputs": []
    },
    {
      "metadata": {
        "id": "mdPONNETU5qx",
        "colab_type": "code",
        "colab": {
          "autoexec": {
            "startup": false,
            "wait_interval": 0
          },
          "base_uri": "https://localhost:8080/",
          "height": 500
        },
        "outputId": "fa910698-6173-45f9-97d5-5bd25530c84c",
        "executionInfo": {
          "status": "ok",
          "timestamp": 1525356535687,
          "user_tz": -120,
          "elapsed": 704,
          "user": {
            "displayName": "Alexander Ladwein",
            "photoUrl": "https://lh3.googleusercontent.com/a/default-user=s128",
            "userId": "108354576234587090380"
          }
        }
      },
      "cell_type": "code",
      "source": [
        "plt.hist(angles[2,:],bins = 20)"
      ],
      "execution_count": 54,
      "outputs": [
        {
          "output_type": "execute_result",
          "data": {
            "text/plain": [
              "(array([23., 21., 41., 46., 59., 59., 43., 69., 68., 75., 66., 65., 54.,\n",
              "        55., 58., 53., 42., 45., 33., 25.]),\n",
              " array([-9.93757482e-01, -8.94398381e-01, -7.95039281e-01, -6.95680180e-01,\n",
              "        -5.96321079e-01, -4.96961978e-01, -3.97602878e-01, -2.98243777e-01,\n",
              "        -1.98884676e-01, -9.95255756e-02, -1.66474932e-04,  9.91926258e-02,\n",
              "         1.98551726e-01,  2.97910827e-01,  3.97269928e-01,  4.96629029e-01,\n",
              "         5.95988129e-01,  6.95347230e-01,  7.94706331e-01,  8.94065431e-01,\n",
              "         9.93424532e-01]),\n",
              " <a list of 20 Patch objects>)"
            ]
          },
          "metadata": {
            "tags": []
          },
          "execution_count": 54
        },
        {
          "output_type": "display_data",
          "data": {
            "image/png": "[encoded data removed]",
            "application/pdf": "[encoded data removed]",
            "text/plain": [
              "<matplotlib.figure.Figure at 0x7fa975c598d0>"
            ]
          },
          "metadata": {
            "tags": []
          }
        }
      ]
    },
    {
      "metadata": {
        "id": "xSlLN7U8VFY8",
        "colab_type": "code",
        "colab": {
          "autoexec": {
            "startup": false,
            "wait_interval": 0
          },
          "base_uri": "https://localhost:8080/",
          "height": 483
        },
        "outputId": "97d8166e-cccd-403d-c041-93659e87d56c",
        "executionInfo": {
          "status": "ok",
          "timestamp": 1525356590420,
          "user_tz": -120,
          "elapsed": 835,
          "user": {
            "displayName": "Alexander Ladwein",
            "photoUrl": "https://lh3.googleusercontent.com/a/default-user=s128",
            "userId": "108354576234587090380"
          }
        }
      },
      "cell_type": "code",
      "source": [
        "plt.hist(angles[998,:], bins=20)"
      ],
      "execution_count": 55,
      "outputs": [
        {
          "output_type": "execute_result",
          "data": {
            "text/plain": [
              "(array([  1.,   2.,   5.,  10.,   8.,  39.,  57.,  67.,  95., 121., 115.,\n",
              "        137., 118.,  92.,  51.,  41.,  13.,  14.,  13.,   1.]),\n",
              " array([-0.10792672, -0.09785392, -0.08778111, -0.07770831, -0.06763551,\n",
              "        -0.0575627 , -0.0474899 , -0.0374171 , -0.02734429, -0.01727149,\n",
              "        -0.00719869,  0.00287412,  0.01294692,  0.02301972,  0.03309253,\n",
              "         0.04316533,  0.05323813,  0.06331094,  0.07338374,  0.08345655,\n",
              "         0.09352935]),\n",
              " <a list of 20 Patch objects>)"
            ]
          },
          "metadata": {
            "tags": []
          },
          "execution_count": 55
        },
        {
          "output_type": "display_data",
          "data": {
            "image/png": "[encoded data removed]",
            "application/pdf": "[encoded data removed]",
            "text/plain": [
              "<matplotlib.figure.Figure at 0x7fa975c59d68>"
            ]
          },
          "metadata": {
            "tags": []
          }
        }
      ]
    },
    {
      "metadata": {
        "id": "-2lZ35EEI4bC",
        "colab_type": "text"
      },
      "cell_type": "markdown",
      "source": [
        "### 2.5\n",
        "- The general trend of the data does not change, however the \"noise\"/variance decreases, the curves become smoother\n",
        "- The higher the sample size, the more probable it is, that there is a smaller minimum angle between every vector and the other vectors. Thus the average of this minimum also decreases with increasing number of samples"
      ]
    },
    {
      "metadata": {
        "id": "af5brKvD8MJu",
        "colab_type": "text"
      },
      "cell_type": "markdown",
      "source": [
        "##Task 3 \n",
        "###3.1\n",
        "\n",
        "All the probabilities add up to 1$\\rightarrow$ It is a probability table.\n",
        "\n",
        "###3.2\n",
        "\n",
        "The conditional expectation is written as:\n",
        "\\begin{align}\n",
        "E_{y|x=2}[y] = \\sum_{y} y\\cdot p_{y|x=2}(y)\\\\\\\\\n",
        "\\end{align}\n",
        "\n",
        "Therefore, from the figure we know:\n",
        "\n",
        "\\begin{align}\n",
        "p_x(2)= 0.4+0.14+0.05=0.59\n",
        "\\end{align}\n",
        "\n",
        "We divide in followed cases:\n",
        "\n",
        "   \\begin{align}\n",
        "   f(x) =\n",
        "   \\begin{cases}\n",
        "     \\frac{p_{yx}(1,2)}{p_x(2)}=\\frac{0.4}{0.59}  \\\\\n",
        "     \\frac{p_{yx}(2,2)}{p_x(2)}=\\frac{0.14}{0.59}  \\\\\n",
        "     \\frac{p_{yx}(3,2)}{p_x(2)}=\\frac{0.05}{0.59} \n",
        "   \\end{cases}\n",
        "  \\end{align}\n",
        "  \n",
        "The conditional expectation:\n",
        "  \n",
        "   \\begin{align}\n",
        "   E_{y|x=2}[y] = 1\\cdot \\frac{0.4}{0.59} + 2\\cdot \\frac{0.14}{0.59} + 3 \\cdot \\frac{0.05}{0.59} = 1.407\n",
        "   \\end{align}\n",
        "\n",
        "For the event X=1 and Y=3\n",
        "   \\begin{align}\n",
        "   p(x=1,y=3)=\\frac{p_{x,y}(1,3)}{\\sum_{x}p_{x,y}(x,3)}=\\frac{0.13}{0.13+0.05} = 0.72\n",
        "   \\end{align}\n",
        "\n",
        "###3.3\n",
        "Intergrate p(x,y)\n",
        "   \n",
        "   \\begin{align}\n",
        "   \\int_{0}^{0.5}\\int_{0}^{1} 1 dxdy = 1 \\cdot 0.5 = 0.5 \n",
        "   \\end{align}\n",
        "   $\\rightarrow$  not a joint density function, because 0.5 is not equal to 1\n",
        "   \n",
        "###3.4\n",
        "   For $p_x(x)$\n",
        "   \n",
        "   \\begin{align}\n",
        "     p_x(x)= \\int_{y} p_{xy}(x,y) dy = \\int_{x}^{\\infty}2\\cdot exp(-x-y) dy = 2 \\cdot e^{-x}\\cdot e^{-x} =\n",
        "      \\begin{cases}\n",
        "      2 \\cdot e^{-2x}   & 0\\leq x \\leq y  \\\\\n",
        "      0   &otherwise \\\\\n",
        "\\end{cases} \n",
        "   \\end{align}\n",
        "\n",
        "   For $p_y(y)$\n",
        "   \\begin{align}\n",
        "   p_y(y)= \\int_{x} p_{xy}(x,y) dx = \\int_{0}^{y}2\\cdot exp(-x-y) dx =\n",
        "      \\begin{cases}\n",
        "      2 \\cdot e^{-y} \\cdot (1-e^{-y})   & y \\geq 0 \\\\\n",
        "      0   & otherwise \\\\\n",
        "\\end{cases}\n",
        "   \\end{align}\n",
        "\n",
        "###3.5\n",
        "The probability for $X\\leq2$ and $Y=0.5$\n",
        "\n",
        "\\begin{align}\n",
        "  p(x\\leq 2|y=0.5) = \\int_{0}^{2} \\frac{1}{15} \\cdot (2x+2) dx = \\frac{8}{15}\n",
        "\\end{align}\n",
        "\n",
        "\n"
      ]
    },
    {
      "metadata": {
        "id": "zE5JTo9tmXR5",
        "colab_type": "text"
      },
      "cell_type": "markdown",
      "source": [
        ""
      ]
    },
    {
      "metadata": {
        "id": "27l7T2ZWPX7c",
        "colab_type": "text"
      },
      "cell_type": "markdown",
      "source": [
        "## Task 4"
      ]
    },
    {
      "metadata": {
        "id": "HntgFt95Pbag",
        "colab_type": "text"
      },
      "cell_type": "markdown",
      "source": [
        "The covariance matrix $\\textbf{C}\\in\\mathbb{R}^{p\\times p}$ of any random vector $\\textbf{X}\\in\\mathbb{R}^{p}$ is given by:\n",
        "\n",
        "\\begin{align}\n",
        "\\textbf{C} = \\mathbb{E}[(\\textbf{X} - \\mathbb{E}[\\textbf{X}])(\\textbf{X} - \\mathbb{E}[\\textbf{X}])^T]\\\\\\\\\n",
        "\\end{align}\n",
        "\n",
        "First, we show the symmetry of the covariance matrix $\\textbf{C}$, i.e $\\textbf{C} = \\textbf{C}^T$ :\n",
        "\n",
        "\\begin{align}\n",
        "\\textbf{C}^T &= (\\mathbb{E}[(\\textbf{X} - \\mathbb{E}[\\textbf{X}])(\\textbf{X} - \\mathbb{E}[\\textbf{X}])^T])^T \\\\ &= \\mathbb{E}[((\\textbf{X} - \\mathbb{E}[\\textbf{X}])(\\textbf{X} - \\mathbb{E}[\\textbf{X}])^T]))^T] \\\\ &= \\mathbb{E}[((\\textbf{X} - \\mathbb{E}[\\textbf{X}])^T)^T(\\textbf{X} - \\mathbb{E}[\\textbf{X}])^T] \\\\ &= \\mathbb{E}[(\\textbf{X} - \\mathbb{E}[\\textbf{X}])(\\textbf{X} - \\mathbb{E}[\\textbf{X}])^T] = \\textbf{C} \\\\\\\\\n",
        "\\end{align}\n",
        "\n",
        "\n",
        "\n",
        "Second, we show that the covariance matrix $\\textbf{C}$ of any random vector $\\textbf{X}\\in\\mathbb{R}^{p}$ is positive-semidefinite, i.e  $\\textbf{u}^T\\textbf{C}\\textbf{u} \\geq 0$  for any covariance matrix $\\textbf{C}\\in\\mathbb{R}^{p\\times p}$ and any $\\textbf{u}\\in\\mathbb{R}^{p}$\n",
        "\n",
        "\\begin{align}\n",
        "\\textbf{u}^T\\textbf{C}\\textbf{u} &= \\textbf{u}^T \\mathbb{E}[(\\textbf{X} - \\mathbb{E}[\\textbf{X}])(\\textbf{X} - \\mathbb{E}[\\textbf{X}])^T] \\textbf{u}\\\\ &= \\mathbb{E}[\\textbf{u}^T(\\textbf{X} - \\mathbb{E}[\\textbf{X}])(\\textbf{X} - \\mathbb{E}[\\textbf{X}])^T\\textbf{u}] \\\\ &= \\mathbb{E}[((\\textbf{X} - \\mathbb{E}[\\textbf{X}])^T\\textbf{u})^T(\\textbf{X} - \\mathbb{E}[\\textbf{X}])^T\\textbf{u}] \\\\ &= \\mathbb{E}[((\\textbf{X} - \\mathbb{E}[\\textbf{X}])^T\\textbf{u})^2] \\geq 0\n",
        "\\end{align}\n",
        "\n",
        "This holds as the square of any real number ( $(\\textbf{X} - \\mathbb{E}[\\textbf{X}])^T\\textbf{u}$ is a real scalar number) is non-negative.\n",
        "\n",
        "From the two previously shown properties, it follows that the covariance matrix $\\textbf{C}\\in\\mathbb{R}^{p\\times p}$ of any random vector $\\textbf{X}\\in\\mathbb{R}^{p}$ is symmetric positive-semidefinite.\n"
      ]
    }
  ]
}